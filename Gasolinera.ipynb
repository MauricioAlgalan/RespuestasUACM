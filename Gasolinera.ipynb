{
  "nbformat": 4,
  "nbformat_minor": 0,
  "metadata": {
    "colab": {
      "name": "Gasolinera.ipynb",
      "provenance": [],
      "include_colab_link": true
    },
    "kernelspec": {
      "name": "python3",
      "display_name": "Python 3"
    },
    "language_info": {
      "name": "python"
    }
  },
  "cells": [
    {
      "cell_type": "markdown",
      "metadata": {
        "id": "view-in-github",
        "colab_type": "text"
      },
      "source": [
        "<a href=\"https://colab.research.google.com/github/MauricioAlgalan/RespuestasUACM/blob/main/Gasolinera.ipynb\" target=\"_parent\"><img src=\"https://colab.research.google.com/assets/colab-badge.svg\" alt=\"Open In Colab\"/></a>"
      ]
    },
    {
      "cell_type": "markdown",
      "metadata": {
        "id": "8arUM4UpAQfA"
      },
      "source": [
        " Prueba de código"
      ]
    },
    {
      "cell_type": "code",
      "metadata": {
        "id": "k-Bxeqv_AVZf",
        "colab": {
          "base_uri": "https://localhost:8080/"
        },
        "outputId": "11588a87-b589-4eea-86ad-f664f11c1bd7"
      },
      "source": [
        " #Creamos una clase\n",
        "class Gasolinera:\n",
        " \n",
        "#Creamos y llamamos a los metodos\n",
        "    def __init__(self, costo1=16.26, costo2=18.14, costo3= 17.00):\n",
        "        self.costo1=costo1\n",
        "        self.costo2=costo2\n",
        "        self.costo3=costo3\n",
        "    def magna(self,litros=0):\n",
        "        return litros*self.costo1\n",
        " \n",
        "gas=Gasolinera()\n",
        " \n",
        "def menu():\n",
        "    opcion=0\n",
        "    while opcion!=4:    \n",
        "        print(\"1.Magna\")\n",
        "        print(\"2.Premium\")\n",
        "        print(\"3.Diesel\")\n",
        "        print(\"4.Salir\")\n",
        "        opcion = int(input(\"Ingrese su opcion: \"))\n",
        "#Utilizamos una forma simplificada de if anidados con la sentencia elif\n",
        "        if opcion==1:\n",
        "            l1=float(input(\"Cantidad de litros:\"))\n",
        "            print(\"El costo es: \",gas.magna(l1))            \n",
        "        elif opcion==4:\n",
        "            print(\"Vuelva pronto\")\n",
        " \n",
        "menu()"
      ],
      "execution_count": null,
      "outputs": [
        {
          "output_type": "stream",
          "text": [
            "1.Magna\n",
            "2.Premium\n",
            "3.Diesel\n",
            "4.Salir\n",
            "Ingrese su opcion: 1\n",
            "Cantidad de litros:3\n",
            "El costo es:  48.78\n",
            "1.Magna\n",
            "2.Premium\n",
            "3.Diesel\n",
            "4.Salir\n",
            "Ingrese su opcion: 4\n",
            "Vuelva pronto\n"
          ],
          "name": "stdout"
        }
      ]
    }
  ]
}